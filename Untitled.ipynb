{
 "cells": [
  {
   "cell_type": "code",
   "execution_count": 1,
   "metadata": {
    "scrolled": true
   },
   "outputs": [
    {
     "name": "stdout",
     "output_type": "stream",
     "text": [
      "446.5 85.0\n"
     ]
    }
   ],
   "source": [
    "h = 23.5\n",
    "w = 19\n",
    "a = (h*w)\n",
    "p = (h+w)*2\n",
    "print(a,p)"
   ]
  },
  {
   "cell_type": "code",
   "execution_count": 2,
   "metadata": {},
   "outputs": [
    {
     "name": "stdout",
     "output_type": "stream",
     "text": [
      "Height= 23.5\n",
      "Weight= 19\n",
      "Perimter= 85.0\n",
      "Area= 446.5\n"
     ]
    }
   ],
   "source": [
    "print(\"Height=\", h)\n",
    "print(\"Weight=\",w)\n",
    "print(\"Perimter=\",p)\n",
    "print(\"Area=\",a)"
   ]
  },
  {
   "cell_type": "code",
   "execution_count": null,
   "metadata": {},
   "outputs": [],
   "source": []
  }
 ],
 "metadata": {
  "kernelspec": {
   "display_name": "Python 3",
   "language": "python",
   "name": "python3"
  },
  "language_info": {
   "codemirror_mode": {
    "name": "ipython",
    "version": 3
   },
   "file_extension": ".py",
   "mimetype": "text/x-python",
   "name": "python",
   "nbconvert_exporter": "python",
   "pygments_lexer": "ipython3",
   "version": "3.7.3"
  }
 },
 "nbformat": 4,
 "nbformat_minor": 2
}
